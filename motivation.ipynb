{
 "cells": [
  {
   "cell_type": "code",
   "execution_count": 1,
   "metadata": {},
   "outputs": [],
   "source": [
    "import networkx as nx\n",
    "import numpy as np\n",
    "from sympy.matrices import Matrix,GramSchmidt\n",
    "import torch\n",
    "from torch_geometric.utils import from_networkx\n",
    "from sklearn.utils import shuffle\n",
    "from torch_geometric.transforms import RandomNodeSplit\n",
    "import time\n",
    "from torch_geometric.data import Data\n",
    "import matplotlib.pyplot as plt\n",
    "import os\n",
    "from tqdm import tqdm\n",
    "import time\n",
    "\n",
    "import networkx as nx\n",
    "import numpy as np\n",
    "import matplotlib.pyplot as plt\n",
    "\n",
    "import torch\n",
    "import torch.nn.functional as F\n",
    "\n",
    "import torch_geometric\n",
    "from torch_geometric.datasets import Planetoid\n",
    "import torch_geometric.transforms as T\n",
    "from torch_geometric.utils import one_hot\n",
    "from torch_geometric.utils import remove_self_loops, remove_isolated_nodes\n",
    "from torch_geometric.utils.convert import to_networkx\n",
    "from torch_sparse import SparseTensor\n",
    "import warnings\n",
    "warnings.filterwarnings(\"ignore\")\n",
    "import torch\n",
    "import torch.nn.functional as F\n",
    "from torch_geometric.nn import GCNConv\n",
    "from torch.nn import Linear\n",
    "from tqdm import tqdm\n",
    "from torch_geometric.datasets import Planetoid\n",
    "from utils.models import get_model\n",
    "from utils.train import train_warpper"
   ]
  },
  {
   "cell_type": "code",
   "execution_count": 2,
   "metadata": {},
   "outputs": [],
   "source": [
    "class synthetic_dataset():\n",
    "    def __init__(self, num_nodes=None, num_edges=None, num_classes=7, feature_dim=None, p=None, q=None, sigma=None, num_train_per_class=None, num_val=None, num_test=None,\n",
    "                 class_prob=None, with_self_loop=False, data=None) -> None:\n",
    "        self.num_nodes = num_nodes\n",
    "        self.num_edges = num_edges\n",
    "        self.feature_dim = feature_dim\n",
    "        self.p = p\n",
    "        self.q = q\n",
    "        self.sigma = sigma\n",
    "        self.num_classes = num_classes\n",
    "        self.with_self_loop = with_self_loop\n",
    "        self.num_train_per_class = num_train_per_class\n",
    "        self.num_val = num_val\n",
    "        self.num_test = num_test\n",
    "        self.feature_base = None\n",
    "        self.feature = None\n",
    "        self.label = None\n",
    "        # self.feature_each = None\n",
    "        self.edges = None\n",
    "        self.graph = None\n",
    "        if data is not None:\n",
    "            self.graph = data\n",
    "            self.init_by_graph(self.graph, seed=2023)\n",
    "            return\n",
    "        eps = 1e-6\n",
    "        if (class_prob is None) or (np.sum(class_prob) - 1) > eps:\n",
    "            if class_prob is not None:\n",
    "                print(\"Didn't use given class distribution.\")\n",
    "            self.class_prob = np.ones(num_classes) / num_classes\n",
    "        else:\n",
    "            self.class_prob = np.array(class_prob)\n",
    "    \n",
    "    def init_by_graph(self, data, seed=None):\n",
    "        if not seed is None:\n",
    "            np.random.seed(seed)\n",
    "        self.num_nodes = data.num_nodes\n",
    "        self.num_edges = data.num_edges // 2\n",
    "        self.num_classes = data.num_classes\n",
    "        self.edges = data.edge_index\n",
    "        self.feature_dim = data.num_features\n",
    "        self.label = data.y\n",
    "        self.feature = data.x\n",
    "        feature_base, _ = self.get_feature(seed)\n",
    "        self.feature_base = feature_base[self.label]\n",
    "        return \n",
    "        \n",
    "        \n",
    "    def generate_graph(self,  seed=None, feature_seed=None, edge_seed=None, split_seed=None):\n",
    "        if not seed is None:\n",
    "            np.random.seed(seed)\n",
    "        graph = nx.Graph()\n",
    "        #  生成节点label和feature\n",
    "        graph.add_nodes_from(list(range(self.num_nodes)))\n",
    "        label = np.random.choice(range(self.num_classes), size=self.num_nodes, p=self.class_prob)\n",
    "        self.label = label\n",
    "        feature_base, feature_each = self.get_feature(feature_seed)\n",
    "        self.feature_base = feature_base[self.label]\n",
    "        self.feature = (self.feature_base + feature_each).astype(np.float64)\n",
    "        \n",
    "        #   生成边 随机i，j，如果i，j label相同以概率p连接，不同以概率q连接，直到生成指定数量的边\n",
    "        try_cnt = 0\n",
    "        edges = set()\n",
    "        if not edge_seed is None:\n",
    "            np.random.seed(edge_seed)\n",
    "        while len(edges) < 2 * self.num_edges:\n",
    "            i, j = np.random.randint(0, self.num_nodes, size=2)\n",
    "            i, j = min(i, j), max(i, j)\n",
    "            if i == j and not self.with_self_loop:\n",
    "                continue\n",
    "            if self.label[i] == self.label[i]:\n",
    "                x = np.random.random()\n",
    "                if x < self.p and (i, j) not in edges:\n",
    "                    edges.add((i, j))\n",
    "                    edges.add((j, i))\n",
    "            else:\n",
    "                x = np.random.random()\n",
    "                if x < self.q and (i, j) not in edges:\n",
    "                    edges.add((i, j))\n",
    "                    edges.add((j, i))\n",
    "            try_cnt += 1\n",
    "            assert try_cnt < 100 * self.num_edges / np.mean([self.p, self.q]), \"Can't generate so much edges!\"\n",
    "        self.edges = torch.tensor(list(edges)).T.contiguous()\n",
    "        graph = Data(x=torch.tensor(self.feature, dtype=torch.float32), edge_index=self.edges, y=torch.tensor(self.label))\n",
    "        graph = RandomNodeSplit('test_rest', num_train_per_class=self.num_train_per_class, num_val=self.num_val, num_test=self.num_test)(graph)\n",
    "        self.graph = graph\n",
    "        return graph\n",
    "    \n",
    "        \n",
    "        \n",
    "    def get_feature(self, feature_seed=None):\n",
    "        feature_base = np.random.rand(self.num_classes, self.feature_dim)\n",
    "        feature_base_mat = [Matrix(row) for row in feature_base]\n",
    "        feature_base = GramSchmidt(feature_base_mat, True)\n",
    "        #   feature of each class\n",
    "        feature_base = np.array(feature_base).reshape(self.num_classes, self.feature_dim).astype(np.float64)\n",
    "        #   feature of each node\n",
    "        if not feature_seed is None:\n",
    "            np.random.seed(feature_seed)\n",
    "        if self.sigma is None:\n",
    "            return feature_base, None\n",
    "        feature_each = np.random.normal(loc=0, scale=self.sigma, size=(self.num_nodes, self.feature_dim))\n",
    "        return feature_base, feature_each\n",
    "        \n",
    "    def regenerate_feature(self, sigma, feature_seed=None):\n",
    "        if not feature_seed is None:\n",
    "            np.random.seed(feature_seed)\n",
    "        self.sigma = sigma\n",
    "        feature_each = np.random.normal(loc=0, scale=self.sigma, size=(self.num_nodes, self.feature_dim))\n",
    "        graph = self.graph\n",
    "        feature = self.feature_base + feature_each\n",
    "        self.feature = feature\n",
    "        graph.x = torch.tensor(feature, dtype=torch.float32)\n",
    "        self.graph = graph\n",
    "        return graph\n",
    "    \n",
    "    def regenerate_topo(self, p, q, edge_seed=None):\n",
    "        if not edge_seed is None:\n",
    "            np.random.seed(edge_seed)\n",
    "        try_cnt = 0\n",
    "        edges = set()\n",
    "        self.p = p\n",
    "        self.q = q\n",
    "        while len(edges) < self.num_edges * 2:\n",
    "            try_cnt += 1\n",
    "            i, j = np.random.randint(0, self.num_nodes, size=2)\n",
    "            i, j = min(i, j), max(i, j)\n",
    "            if i == j and not self.with_self_loop:\n",
    "                continue\n",
    "            if self.label[i] == self.label[j]:\n",
    "                x = np.random.random()\n",
    "                if x < self.p and (i, j) not in edges:\n",
    "                    edges.add((i, j))\n",
    "                    edges.add((j, i))\n",
    "            else:\n",
    "                x = np.random.random()\n",
    "                if x < self.q and (i, j) not in edges:\n",
    "                    edges.add((i, j))\n",
    "                    edges.add((j, i))\n",
    "            assert try_cnt < 100 * self.num_edges / np.mean([self.p, self.q]), \"Can't generate so much edges!\"\n",
    "        self.edges = torch.tensor(list(edges)).T.contiguous()\n",
    "        self.graph.edge_index = self.edges\n",
    "        graph = self.graph\n",
    "        return graph"
   ]
  },
  {
   "cell_type": "code",
   "execution_count": 3,
   "metadata": {},
   "outputs": [],
   "source": [
    "def train(model_name, epoches, graph, hidden, num_classes, dropout, num_layers, with_tqdm=True, seed=10086):\n",
    "    device = torch.device('cuda' if torch.cuda.is_available() else 'cpu')\n",
    "    args = {'num_layers': num_layers, 'num_features': graph.num_node_features, 'hidden': hidden, 'num_classes': num_classes, 'dropout': dropout}\n",
    "    model = get_model(model_name, args=args).to(device)\n",
    "    model.reset_parameters()\n",
    "    data = graph.to(device)\n",
    "    optimizer = torch.optim.Adam(model.parameters(), lr=0.01, weight_decay=5e-4)\n",
    "    model.train()\n",
    "    epoches = tqdm(range(epoches)) if with_tqdm else range(epoches)\n",
    "    best_val_acc = 0.\n",
    "    acc = 0\n",
    "    for epoch in epoches:\n",
    "        optimizer.zero_grad()\n",
    "        out = model(data.x, data.edge_index)\n",
    "        loss = F.nll_loss(out[data.train_mask], data.y[data.train_mask])\n",
    "        loss.backward()\n",
    "        optimizer.step()\n",
    "        \n",
    "        if (epoch + 1) % 5 == 0:\n",
    "            model.eval()\n",
    "            val = model(data.x, data.edge_index).argmax(dim=1)\n",
    "            val_correct = (val[data.val_mask] == data.y[data.val_mask]).sum()\n",
    "            val_acc = val_correct / data.val_mask.sum()\n",
    "            if val_acc > best_val_acc:\n",
    "                best_val_acc = val_acc\n",
    "                pred = model(data.x, data.edge_index).argmax(dim=1)\n",
    "                correct = (pred[data.test_mask] == data.y[data.test_mask]).sum()\n",
    "                acc = int(correct) / int(data.test_mask.sum())\n",
    "            model.train()\n",
    "    return acc\n",
    "\n",
    "def train_wrap(model_name, epoches, graph, hidden, num_classes, dropout, num_layers, with_tqdm=True, trains=5):\n",
    "    acc_list = []\n",
    "    for _ in range(trains):\n",
    "        acc = train(model_name, epoches, graph, hidden, num_classes, dropout, num_layers, with_tqdm=with_tqdm)\n",
    "        acc_list.append(acc)\n",
    "    acc = np.mean(acc_list)\n",
    "    if with_tqdm:\n",
    "        print(f'Accuracy: {acc:.4f}')\n",
    "    return acc\n"
   ]
  },
  {
   "cell_type": "code",
   "execution_count": 4,
   "metadata": {},
   "outputs": [],
   "source": [
    "dataset = Planetoid(root='/home/xylalter/data/Cora/', name='Cora')\n",
    "data = dataset[0]\n",
    "data.num_classes = dataset.num_classes"
   ]
  },
  {
   "cell_type": "code",
   "execution_count": 5,
   "metadata": {},
   "outputs": [],
   "source": [
    "num_nodes, num_edges, num_classes, feature_dim, p, q, sigma, num_train_per_class, num_val, num_test = 2708, 5429, 7, 1433, 0.9, 0.15, 1, 20, 500, 1000\n",
    "epoches, hidden, dropout, num_layers, with_tqdm = 100, 64, 0.4, 2, False"
   ]
  },
  {
   "cell_type": "code",
   "execution_count": 6,
   "metadata": {},
   "outputs": [
    {
     "data": {
      "text/plain": [
       "0.5706"
      ]
     },
     "execution_count": 6,
     "metadata": {},
     "output_type": "execute_result"
    }
   ],
   "source": [
    "mlp_acc = train_wrap('MLP', epoches, data, hidden, num_classes, dropout, num_layers, with_tqdm, trains=5)\n",
    "mlp_acc"
   ]
  },
  {
   "cell_type": "code",
   "execution_count": 7,
   "metadata": {},
   "outputs": [],
   "source": [
    "acc_list = {}\n",
    "data.to('cpu')\n",
    "g = synthetic_dataset(data=data)"
   ]
  },
  {
   "cell_type": "code",
   "execution_count": 8,
   "metadata": {},
   "outputs": [],
   "source": [
    "# homo = p / (p + 6q)"
   ]
  },
  {
   "cell_type": "code",
   "execution_count": 9,
   "metadata": {},
   "outputs": [
    {
     "name": "stderr",
     "output_type": "stream",
     "text": [
      "100%|██████████| 9/9 [01:25<00:00,  9.52s/it]\n"
     ]
    }
   ],
   "source": [
    "p = 0.6\n",
    "homos = np.arange(0.1, 1, 0.1)\n",
    "res = {'gcn': [], 'graphsage': [], 'gat': []}\n",
    "for homo in tqdm(homos):\n",
    "    q = (1 - homo) * p / (6 * homo)\n",
    "    graph = g.regenerate_topo(p, q)\n",
    "    for model in res:\n",
    "        acc = train_wrap(model, epoches, graph, hidden, num_classes, dropout, num_layers, with_tqdm)\n",
    "        res[model].append(acc)"
   ]
  },
  {
   "cell_type": "code",
   "execution_count": 10,
   "metadata": {},
   "outputs": [],
   "source": [
    "fontsize = {'title': 35, 'label': 18, 'ticks': 12, 'markersize': 5, 'legend' : 12}\n",
    "colors = ['#EF0000', '#FEC211', '#336699']\n",
    "markers = ['x', 's', 'o', '^']\n",
    "linewidth = 4\n",
    "markersize = 8"
   ]
  },
  {
   "cell_type": "code",
   "execution_count": 11,
   "metadata": {},
   "outputs": [],
   "source": [
    "import numpy as np\n",
    "import matplotlib.pyplot as plt"
   ]
  },
  {
   "cell_type": "code",
   "execution_count": 12,
   "metadata": {},
   "outputs": [
    {
     "data": {
      "image/png": "[encoded data removed]",
      "text/plain": [
       "<Figure size 600x400 with 1 Axes>"
      ]
     },
     "metadata": {},
     "output_type": "display_data"
    }
   ],
   "source": [
    "plt.figure(figsize=(6, 4))\n",
    "plt.axhline(y=mlp_acc, color='#696969', linestyle='--', linewidth=2)\n",
    "plt.text(x=0.07, y=mlp_acc+0.03, s='MLP', ha='right', va='center', fontsize=12, color='black')\n",
    "cora_homo = 0.799187\n",
    "plt.axvline(x=cora_homo, color='#696969', linestyle='--', linewidth=2)\n",
    "plt.text(y=0.25, x=cora_homo-0.1, s=r'$h_{Cora}$', ha='right', va='center', fontsize=12, color='black')\n",
    "for model in res:\n",
    "    plt.plot(homos[::-1], res[model][::-1], label=model.upper(), markersize=fontsize['markersize'], c=colors[list(res.keys()).index(model)], linewidth=linewidth)  \n",
    "plt.ylabel('ACC(%)', fontsize=fontsize['label'])\n",
    "plt.xlabel('h', fontsize=fontsize['label'])\n",
    "plt.xticks(fontsize=fontsize['ticks'])\n",
    "plt.yticks(fontsize=fontsize['ticks'])\n",
    "plt.rcParams.update({'font.size':fontsize['legend']})\n",
    "plt.legend()\n",
    "plt.gca().invert_xaxis()\n",
    "# plt.title('GNN Performance on SBM-Reconstructed Cora Dataset')\n",
    "plt.tight_layout()\n",
    "plt.savefig('./motivation.pdf', bbox_inches='tight')"
   ]
  },
  {
   "cell_type": "code",
   "execution_count": null,
   "metadata": {},
   "outputs": [],
   "source": []
  }
 ],
 "metadata": {
  "kernelspec": {
   "display_name": "pyg",
   "language": "python",
   "name": "python3"
  },
  "language_info": {
   "codemirror_mode": {
    "name": "ipython",
    "version": 3
   },
   "file_extension": ".py",
   "mimetype": "text/x-python",
   "name": "python",
   "nbconvert_exporter": "python",
   "pygments_lexer": "ipython3",
   "version": "3.10.6"
  }
 },
 "nbformat": 4,
 "nbformat_minor": 2
}
